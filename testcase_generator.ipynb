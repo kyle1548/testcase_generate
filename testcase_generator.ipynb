{
 "cells": [
  {
   "cell_type": "code",
   "execution_count": 38,
   "metadata": {},
   "outputs": [],
   "source": [
    "import numpy as np\n",
    "import random\n",
    "import os\n",
    "import random\n",
    "import glob\n",
    "\n",
    "data_a_list = data_b_list = np.hstack((np.arange(2**15), np.arange(-1, -2**15-1, -1)))\n",
    "\n",
    "n_data = 50000\n",
    "n_cycle = n_data + 10000\n",
    "data_a_select = np.random.choice(data_a_list, size=n_data, replace=True)\n",
    "data_b_select = np.random.choice(data_b_list, size=n_data, replace=True)\n",
    "shift_select = np.random.choice(data_b_list[:17], size=n_data, replace=True)\n",
    "\n",
    "\n",
    "def generate_array_with_ones_and_zeros(num_ones, total_length):\n",
    "    # 確保指定的數量不超過陣列的總長度\n",
    "    if num_ones > total_length:\n",
    "        raise ValueError(\"Number of ones cannot exceed total array length.\")\n",
    "    \n",
    "    # 生成指定數量的1\n",
    "    array = [1] * num_ones\n",
    "    \n",
    "    # 剩下的空間用0填充\n",
    "    zeros_to_add = total_length - num_ones\n",
    "    array += [0] * zeros_to_add\n",
    "    \n",
    "    # 將陣列隨機打亂\n",
    "    random.shuffle(array)\n",
    "    \n",
    "    return array\n",
    "\n",
    "VALID = generate_array_with_ones_and_zeros(n_data, n_cycle)\n",
    "with open(\"VALID.dat\", \"w\", encoding=\"utf-8\") as file:\n",
    "    file.writelines(\"\\n\".join(map(str, VALID)) + \"\\n\")\n"
   ]
  },
  {
   "cell_type": "markdown",
   "metadata": {},
   "source": [
    "Signed Addition"
   ]
  },
  {
   "cell_type": "code",
   "execution_count": 39,
   "metadata": {},
   "outputs": [],
   "source": [
    "inst = '0000'\n",
    "answer = data_a_select + data_b_select\n",
    "upper_limit = answer > 2**15-1\n",
    "lower_limit = answer < -2**15\n",
    "\n",
    "answer[upper_limit] = 2**15-1\n",
    "answer[lower_limit] = -2**15\n",
    "answer_bin = np.vectorize(np.binary_repr)(np.int16(answer), width=16)\n",
    "data_a_bin = np.vectorize(np.binary_repr)(np.int16(data_a_select), width=16)\n",
    "data_b_bin = np.vectorize(np.binary_repr)(np.int16(data_b_select), width=16)\n",
    "\n",
    "\n",
    "combined_input = list(map(lambda a, b: inst + str(a) + str(b), data_a_bin, data_b_bin))\n",
    "with open(\"add_i.dat\", \"w\", encoding=\"utf-8\") as file:\n",
    "    file.writelines(\"\\n\".join(combined_input) + \"\\n\")\n",
    "    \n",
    "with open(\"add_o.dat\", \"w\", encoding=\"utf-8\") as file:\n",
    "    file.writelines(\"\\n\".join(answer_bin) + \"\\n\")"
   ]
  },
  {
   "cell_type": "markdown",
   "metadata": {},
   "source": [
    "Signed Subtraction "
   ]
  },
  {
   "cell_type": "code",
   "execution_count": 40,
   "metadata": {},
   "outputs": [],
   "source": [
    "inst = '0001'\n",
    "answer = data_a_select - data_b_select\n",
    "upper_limit = answer > 2**15-1\n",
    "lower_limit = answer < -2**15\n",
    "\n",
    "answer[upper_limit] = 2**15-1\n",
    "answer[lower_limit] = -2**15\n",
    "answer_bin = np.vectorize(np.binary_repr)(np.int16(answer), width=16)\n",
    "data_a_bin = np.vectorize(np.binary_repr)(np.int16(data_a_select), width=16)\n",
    "data_b_bin = np.vectorize(np.binary_repr)(np.int16(data_b_select), width=16)\n",
    "\n",
    "\n",
    "combined_input = list(map(lambda a, b: inst + str(a) + str(b), data_a_bin, data_b_bin))\n",
    "with open(\"sub_i.dat\", \"w\", encoding=\"utf-8\") as file:\n",
    "    file.writelines(\"\\n\".join(combined_input) + \"\\n\")\n",
    "    \n",
    "with open(\"sub_o.dat\", \"w\", encoding=\"utf-8\") as file:\n",
    "    file.writelines(\"\\n\".join(answer_bin) + \"\\n\")"
   ]
  },
  {
   "cell_type": "markdown",
   "metadata": {},
   "source": [
    "Signed Multiplication"
   ]
  },
  {
   "cell_type": "code",
   "execution_count": 41,
   "metadata": {},
   "outputs": [],
   "source": [
    "inst = '0010'\n",
    "\n",
    "answer = np.floor(((data_a_select * data_b_select) / (2**10)) + 0.5)   # rounding, additional 10 bit fraction\n",
    "upper_limit = answer > 2**15-1\n",
    "lower_limit = answer < -2**15\n",
    "\n",
    "answer[upper_limit] = 2**15-1\n",
    "answer[lower_limit] = -2**15\n",
    "answer_bin = np.vectorize(np.binary_repr)(np.int16(answer), width=16)\n",
    "data_a_bin = np.vectorize(np.binary_repr)(np.int16(data_a_select), width=16)\n",
    "data_b_bin = np.vectorize(np.binary_repr)(np.int16(data_b_select), width=16)\n",
    "\n",
    "\n",
    "combined_input = list(map(lambda a, b: inst + str(a) + str(b), data_a_bin, data_b_bin))\n",
    "with open(\"mul_i.dat\", \"w\", encoding=\"utf-8\") as file:\n",
    "    file.writelines(\"\\n\".join(combined_input) + \"\\n\")\n",
    "    \n",
    "with open(\"mul_o.dat\", \"w\", encoding=\"utf-8\") as file:\n",
    "    file.writelines(\"\\n\".join(answer_bin) + \"\\n\")"
   ]
  },
  {
   "cell_type": "markdown",
   "metadata": {},
   "source": [
    "Signed Accumulation "
   ]
  },
  {
   "cell_type": "code",
   "execution_count": 204,
   "metadata": {},
   "outputs": [
    {
     "name": "stdout",
     "output_type": "stream",
     "text": [
      "521682.0 -513829.0 524288\n",
      "466079.0 -454573.0 524288\n"
     ]
    }
   ],
   "source": [
    "inst = '0011'\n",
    "\n",
    "n_data_acc = 4000   # couldn't be too large because memory would overflow.\n",
    "addr_select = np.random.choice(data_a_list[:16], size=n_data_acc, replace=True)\n",
    "data_b_select_acc = np.random.choice(data_b_list, size=n_data_acc, replace=True)\n",
    "\n",
    "data_acc = np.zeros(16)\n",
    "answer = []\n",
    "for addr, data in zip(addr_select, data_b_select_acc):\n",
    "    data_acc[addr] += data\n",
    "    answer.append(data_acc[addr])\n",
    "    # if abs(data_acc[addr]) > 2**19: \n",
    "        # print(\"Error! Exceed limit\")\n",
    "        # break\n",
    "answer = np.array(answer)\n",
    "print(max(answer), min(answer), 2**19)\n",
    "\n",
    "upper_limit = answer > 2**15-1\n",
    "lower_limit = answer < -2**15\n",
    "answer[upper_limit] = 2**15-1\n",
    "answer[lower_limit] = -2**15\n",
    "answer_bin = np.vectorize(np.binary_repr)(np.int16(answer), width=16)\n",
    "data_a_bin = np.vectorize(np.binary_repr)(np.int16(addr_select), width=16)\n",
    "data_b_bin = np.vectorize(np.binary_repr)(np.int16(data_b_select_acc), width=16)\n",
    "\n",
    "\n",
    "combined_input = list(map(lambda a, b: inst + str(a) + str(b), data_a_bin, data_b_bin))\n",
    "with open(\"acc_i.dat\", \"w\", encoding=\"utf-8\") as file:\n",
    "    file.writelines(\"\\n\".join(combined_input) + \"\\n\")\n",
    "    \n",
    "with open(\"acc_o.dat\", \"w\", encoding=\"utf-8\") as file:\n",
    "    file.writelines(\"\\n\".join(answer_bin) + \"\\n\")\n",
    "    "
   ]
  },
  {
   "cell_type": "markdown",
   "metadata": {},
   "source": [
    "Softplus"
   ]
  },
  {
   "cell_type": "code",
   "execution_count": 43,
   "metadata": {},
   "outputs": [],
   "source": [
    "inst = '0100'\n",
    "\n",
    "answer = np.zeros(n_data)\n",
    "\n",
    "range1 = data_a_select >= (2<<10)                                   # x>=2\n",
    "range2 = ((0) <= data_a_select) & (data_a_select <= (2<<10))        # 0<=x<=2\n",
    "range3 = ((-1<<10) <= data_a_select) & (data_a_select <= (0))       # -1<=x<=0\n",
    "range4 = ((-2<<10) <= data_a_select) & (data_a_select <= (-1<<10))  # -2<=x<=-1\n",
    "range5 = ((-3<<10) <= data_a_select) & (data_a_select <= (-2<<10))  # -3<=x<=-2\n",
    "range6 = data_a_select <= (-3<<10)                                  # x<=-3\n",
    "\n",
    "answer[range1] = data_a_select[range1]   # y = x\n",
    "answer[range2] = (2*data_a_select[range2]+(2<<10))/3   # y = (2*x+2)/3\n",
    "answer[range3] = (data_a_select[range3]+(2<<10))/3   # y = (x+2)/3\n",
    "answer[range4] = (2*data_a_select[range4]+(5<<10))/9   # y = (2*x+5)/9\n",
    "answer[range5] = (data_a_select[range5]+(3<<10))/9   # y = (x+3)/9\n",
    "answer[range6] = 0   # y = 0\n",
    "answer = np.floor(answer + 0.5)    # rounding       \n",
    "\n",
    "upper_limit = answer > 2**15-1\n",
    "lower_limit = answer < -2**15\n",
    "answer[upper_limit] = 2**15-1\n",
    "answer[lower_limit] = -2**15\n",
    "answer_bin = np.vectorize(np.binary_repr)(np.int16(answer), width=16)\n",
    "data_a_bin = np.vectorize(np.binary_repr)(np.int16(data_a_select), width=16)\n",
    "data_b_bin = np.vectorize(np.binary_repr)(np.int16(data_b_select), width=16)\n",
    "\n",
    "\n",
    "combined_input = list(map(lambda a, b: inst + str(a) + str(b), data_a_bin, data_b_bin))\n",
    "with open(\"soft_i.dat\", \"w\", encoding=\"utf-8\") as file:\n",
    "    file.writelines(\"\\n\".join(combined_input) + \"\\n\")\n",
    "    \n",
    "with open(\"soft_o.dat\", \"w\", encoding=\"utf-8\") as file:\n",
    "    file.writelines(\"\\n\".join(answer_bin) + \"\\n\")"
   ]
  },
  {
   "cell_type": "markdown",
   "metadata": {},
   "source": [
    "XOR"
   ]
  },
  {
   "cell_type": "code",
   "execution_count": 44,
   "metadata": {},
   "outputs": [],
   "source": [
    "inst = '0101'\n",
    "\n",
    "answer = data_a_select ^ data_b_select \n",
    "\n",
    "answer_bin = np.vectorize(np.binary_repr)(np.int16(answer), width=16)\n",
    "data_a_bin = np.vectorize(np.binary_repr)(np.int16(data_a_select), width=16)\n",
    "data_b_bin = np.vectorize(np.binary_repr)(np.int16(data_b_select), width=16)\n",
    "\n",
    "combined_input = list(map(lambda a, b: inst + str(a) + str(b), data_a_bin, data_b_bin))\n",
    "with open(\"xor_i.dat\", \"w\", encoding=\"utf-8\") as file:\n",
    "    file.writelines(\"\\n\".join(combined_input) + \"\\n\")\n",
    "    \n",
    "with open(\"xor_o.dat\", \"w\", encoding=\"utf-8\") as file:\n",
    "    file.writelines(\"\\n\".join(answer_bin) + \"\\n\")"
   ]
  },
  {
   "cell_type": "markdown",
   "metadata": {},
   "source": [
    "Arithmetic Right Shift "
   ]
  },
  {
   "cell_type": "code",
   "execution_count": 45,
   "metadata": {},
   "outputs": [],
   "source": [
    "inst = '0110'\n",
    "\n",
    "answer = data_a_select >> shift_select \n",
    "\n",
    "answer_bin = np.vectorize(np.binary_repr)(np.int16(answer), width=16)\n",
    "data_a_bin = np.vectorize(np.binary_repr)(np.int16(data_a_select), width=16)\n",
    "data_b_bin = np.vectorize(np.binary_repr)(np.int16(shift_select), width=16)\n",
    "\n",
    "combined_input = list(map(lambda a, b: inst + str(a) + str(b), data_a_bin, data_b_bin))\n",
    "with open(\"asr_i.dat\", \"w\", encoding=\"utf-8\") as file:\n",
    "    file.writelines(\"\\n\".join(combined_input) + \"\\n\")\n",
    "    \n",
    "with open(\"asr_o.dat\", \"w\", encoding=\"utf-8\") as file:\n",
    "    file.writelines(\"\\n\".join(answer_bin) + \"\\n\")"
   ]
  },
  {
   "cell_type": "markdown",
   "metadata": {},
   "source": [
    "Left Rotation "
   ]
  },
  {
   "cell_type": "code",
   "execution_count": 46,
   "metadata": {},
   "outputs": [],
   "source": [
    "inst = '0111'\n",
    "\n",
    "def left_rotate_str(binary_str, n):\n",
    "    \"\"\"\n",
    "    將二進位字串進行左旋轉\n",
    "    :param binary_str: 代表二進位的字串\n",
    "    :param n: 旋轉的位數\n",
    "    :return: 左旋轉後的字串\n",
    "    \"\"\"\n",
    "    return binary_str[n:] + binary_str[:n]  # 左旋轉通過字串拼接實現\n",
    "\n",
    "data_a_bin = np.vectorize(np.binary_repr)(np.int16(data_a_select), width=16)\n",
    "data_b_bin = np.vectorize(np.binary_repr)(np.int16(shift_select), width=16)\n",
    "answer_bin = np.vectorize(left_rotate_str)(data_a_bin, shift_select)\n",
    "\n",
    "combined_input = list(map(lambda a, b: inst + str(a) + str(b), data_a_bin, data_b_bin))\n",
    "with open(\"lrot_i.dat\", \"w\", encoding=\"utf-8\") as file:\n",
    "    file.writelines(\"\\n\".join(combined_input) + \"\\n\")\n",
    "    \n",
    "with open(\"lrot_o.dat\", \"w\", encoding=\"utf-8\") as file:\n",
    "    file.writelines(\"\\n\".join(answer_bin) + \"\\n\")"
   ]
  },
  {
   "cell_type": "markdown",
   "metadata": {},
   "source": [
    "Count Leading Zeros"
   ]
  },
  {
   "cell_type": "code",
   "execution_count": 47,
   "metadata": {},
   "outputs": [],
   "source": [
    "inst = '1000'\n",
    "\n",
    "def count_leading_zeros(binary_str):\n",
    "    \"\"\"\n",
    "    計算二進位字串中的前導零數量\n",
    "    :param binary_str: 二進位字串\n",
    "    :return: 前導零的數量\n",
    "    \"\"\"\n",
    "    return len(binary_str) - len(binary_str.lstrip('0'))\n",
    "\n",
    "data_a_bin = np.vectorize(np.binary_repr)(np.int16(data_a_select), width=16)\n",
    "data_b_bin = np.vectorize(np.binary_repr)(np.int16(data_b_select), width=16)\n",
    "answer = np.vectorize(count_leading_zeros)(data_a_bin)\n",
    "answer_bin = np.vectorize(np.binary_repr)(np.int16(answer), width=16)\n",
    "\n",
    "combined_input = list(map(lambda a, b: inst + str(a) + str(b), data_a_bin, data_b_bin))\n",
    "with open(\"clz_i.dat\", \"w\", encoding=\"utf-8\") as file:\n",
    "    file.writelines(\"\\n\".join(combined_input) + \"\\n\")\n",
    "    \n",
    "with open(\"clz_o.dat\", \"w\", encoding=\"utf-8\") as file:\n",
    "    file.writelines(\"\\n\".join(answer_bin) + \"\\n\")"
   ]
  },
  {
   "cell_type": "markdown",
   "metadata": {},
   "source": [
    "Reverse Match4"
   ]
  },
  {
   "cell_type": "code",
   "execution_count": 48,
   "metadata": {},
   "outputs": [],
   "source": [
    "inst = '1001'\n",
    "\n",
    "def reverse_match4(i_data_a, i_data_b):\n",
    "    \"\"\"\n",
    "    將兩個16位二進位字串進行反向4位匹配操作\n",
    "    :param i_data_a: 第一個16位二進位字串\n",
    "    :param i_data_b: 第二個16位二進位字串\n",
    "    :return: 匹配結果二進位字串\n",
    "    \"\"\"\n",
    "    o_data = ['0', '0', '0']  # 最前面3位直接設置為0\n",
    "    \n",
    "    # 遍歷 i_data_a 的位，並進行4位反向匹配，從第4位開始\n",
    "    for i in range(13):\n",
    "        # 取i_data_a的第i到i+3位\n",
    "        segment_a = i_data_a[i:i+4]\n",
    "        # 取i_data_b的反向對應4位 (15-i 至 12-i)\n",
    "        segment_b = i_data_b[15-i-3:15-i+1]\n",
    "        \n",
    "        # 如果匹配則為1，否則為0\n",
    "        if segment_a == segment_b:\n",
    "            o_data.append('1')\n",
    "        else:\n",
    "            o_data.append('0')\n",
    "    \n",
    "    return ''.join(o_data)\n",
    "\n",
    "data_a_bin = np.vectorize(np.binary_repr)(np.int16(data_a_select), width=16)\n",
    "data_b_bin = np.vectorize(np.binary_repr)(np.int16(data_b_select), width=16)\n",
    "answer_bin = np.vectorize(reverse_match4)(data_a_bin, data_b_bin)\n",
    "\n",
    "combined_input = list(map(lambda a, b: inst + str(a) + str(b), data_a_bin, data_b_bin))\n",
    "with open(\"mat4_i.dat\", \"w\", encoding=\"utf-8\") as file:\n",
    "    file.writelines(\"\\n\".join(combined_input) + \"\\n\")\n",
    "    \n",
    "with open(\"mat4_o.dat\", \"w\", encoding=\"utf-8\") as file:\n",
    "    file.writelines(\"\\n\".join(answer_bin) + \"\\n\")"
   ]
  },
  {
   "cell_type": "markdown",
   "metadata": {},
   "source": [
    "ALL MIX"
   ]
  },
  {
   "cell_type": "code",
   "execution_count": 205,
   "metadata": {},
   "outputs": [
    {
     "name": "stdout",
     "output_type": "stream",
     "text": [
      "Number of instruction: 454000\n",
      "Number of cycle: 464000\n"
     ]
    }
   ],
   "source": [
    "def shuffle_lines_in_files(extension):\n",
    "    input_lines = []\n",
    "    output_lines = []\n",
    "    acc_input = []\n",
    "    acc_output = []\n",
    "    \n",
    "    # 遍歷當前資料夾內所有指定副檔名的檔案\n",
    "    for file_name in glob.glob(f'*.{extension}'):\n",
    "        if file_name[:3] == 'mix':    # ignore\n",
    "            continue\n",
    "        elif file_name[-5] == 'i':    # inupt file\n",
    "            # 打開檔案並讀取所有行\n",
    "            with open(file_name, 'r') as file:\n",
    "                lines = file.readlines()\n",
    "                if file_name[:3] == 'acc':\n",
    "                    acc_input.extend(lines)  # 將行添加到 acc_input 列表\n",
    "                else:\n",
    "                    input_lines.extend(lines)  # 將行添加到 input_lines 列表\n",
    "        elif file_name[-5] == 'o':    # output file\n",
    "            # 打開檔案並讀取所有行\n",
    "            with open(file_name, 'r') as file:\n",
    "                lines = file.readlines()\n",
    "                if file_name[:3] == 'acc':\n",
    "                    acc_output.extend(lines)  # 將行添加到 acc_output 列表\n",
    "                else:\n",
    "                    output_lines.extend(lines)  # 將行添加到 output_lines 列表\n",
    "\n",
    "    # input、output以相同順序打亂\n",
    "    assert len(input_lines) == len(output_lines), \"input, output長度必須相同\"\n",
    "    assert len(acc_input) == len(acc_output), \"input, output長度必須相同\"\n",
    "    combined = list(zip(input_lines, output_lines))\n",
    "    random.shuffle(combined)\n",
    "    \n",
    "    # acc先後順序不變，混入combined\n",
    "    total_positions = list(range(len(combined) + len(acc_input)))\n",
    "    insert_positions = sorted(random.sample(total_positions, len(acc_input)))\n",
    "    remaining_positions  = sorted(set(total_positions) - set(insert_positions))\n",
    "\n",
    "    # 使用 zip(*...) 解壓，將元組列表解壓回兩個打亂的陣列\n",
    "    shuffled_input_lines = np.empty(len(total_positions), dtype=object)\n",
    "    shuffled_output_lines = np.empty(len(total_positions), dtype=object)\n",
    "    shuffled_input_lines[insert_positions], shuffled_output_lines[insert_positions] = acc_input, acc_output\n",
    "    shuffled_input_lines[remaining_positions], shuffled_output_lines[remaining_positions] = zip(*combined)\n",
    "\n",
    "    # write shuffled input, output\n",
    "    with open('mix_i.dat', 'w') as file:\n",
    "        file.writelines(shuffled_input_lines)\n",
    "    with open('mix_o.dat', 'w') as file:\n",
    "        file.writelines(shuffled_output_lines)\n",
    "    n_inst = len(input_lines) +len(acc_input)\n",
    "    n_cycle = n_inst + 10000\n",
    "    VALID = generate_array_with_ones_and_zeros(n_inst, n_cycle)\n",
    "    with open(\"VALID.dat\", \"w\", encoding=\"utf-8\") as file:\n",
    "        file.writelines(\"\\n\".join(map(str, VALID)) + \"\\n\")\n",
    "    print('Number of instruction:', n_inst)\n",
    "    print('Number of cycle:', n_cycle)\n",
    "    \n",
    "\n",
    "shuffle_lines_in_files('dat')"
   ]
  },
  {
   "cell_type": "markdown",
   "metadata": {},
   "source": [
    "2's complements check"
   ]
  },
  {
   "cell_type": "code",
   "execution_count": 50,
   "metadata": {},
   "outputs": [
    {
     "data": {
      "text/plain": [
       "(2, 9414, 18828, -21152, 9414)"
      ]
     },
     "execution_count": 50,
     "metadata": {},
     "output_type": "execute_result"
    }
   ],
   "source": [
    "def twos_complement_to_int(binary_str):\n",
    "    # 取得二進位字串的長度\n",
    "    n = len(binary_str)\n",
    "    \n",
    "    # 判斷符號位，如果最左側是 '1'，表示是負數\n",
    "    if binary_str[0] == '1':\n",
    "        # 將二進位字串轉換為負數的十進位表示\n",
    "        return int(binary_str, 2) - (1 << n)\n",
    "    else:\n",
    "        # 如果符號位是 '0'，直接轉換為正數\n",
    "        return int(binary_str, 2)\n",
    "\n",
    "check_a_int = twos_complement_to_int('0000000000000010')\n",
    "check_b_int = twos_complement_to_int(\"0010010011000110\")\n",
    "check_golden_int = twos_complement_to_int('1010110101100000')\n",
    "check_output_int = twos_complement_to_int('0010010011000110')\n",
    "\n",
    "check_a_int, check_b_int, check_a_int * check_b_int, check_golden_int, check_output_int"
   ]
  }
 ],
 "metadata": {
  "kernelspec": {
   "display_name": "Python 3",
   "language": "python",
   "name": "python3"
  },
  "language_info": {
   "codemirror_mode": {
    "name": "ipython",
    "version": 3
   },
   "file_extension": ".py",
   "mimetype": "text/x-python",
   "name": "python",
   "nbconvert_exporter": "python",
   "pygments_lexer": "ipython3",
   "version": "3.11.9"
  }
 },
 "nbformat": 4,
 "nbformat_minor": 2
}
